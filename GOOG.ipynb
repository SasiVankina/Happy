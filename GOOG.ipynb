{
  "nbformat": 4,
  "nbformat_minor": 0,
  "metadata": {
    "colab": {
      "name": "Untitled2.ipynb",
      "provenance": [],
      "collapsed_sections": [],
      "authorship_tag": "ABX9TyN15R/wwfIS8AdQiVJaVQFf",
      "include_colab_link": true
    },
    "kernelspec": {
      "name": "python3",
      "display_name": "Python 3"
    },
    "language_info": {
      "name": "python"
    }
  },
  "cells": [
    {
      "cell_type": "markdown",
      "metadata": {
        "id": "view-in-github",
        "colab_type": "text"
      },
      "source": [
        "<a href=\"https://colab.research.google.com/github/SasiVankina/Happy/blob/master/GOOG.ipynb\" target=\"_parent\"><img src=\"https://colab.research.google.com/assets/colab-badge.svg\" alt=\"Open In Colab\"/></a>"
      ]
    },
    {
      "cell_type": "code",
      "metadata": {
        "id": "KWFgx3mxGrK0"
      },
      "source": [
        "# Description: This Program predicts the price of Google Stock for a Specific day"
      ],
      "execution_count": null,
      "outputs": []
    },
    {
      "cell_type": "code",
      "metadata": {
        "id": "B0NtBoHpG9eL"
      },
      "source": [
        "#Import Libraries\n",
        "from sklearn.svm import SVR\n",
        "import numpy as np\n",
        "import pandas as pd\n",
        "import matplotlib.pyplot as plt\n",
        "plt.style.use('seaborn-darkgrid')"
      ],
      "execution_count": 1,
      "outputs": []
    },
    {
      "cell_type": "code",
      "metadata": {
        "colab": {
          "resources": {
            "http://localhost:8080/nbextensions/google.colab/files.js": {
              "data": "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",
              "ok": true,
              "headers": [
                [
                  "content-type",
                  "application/javascript"
                ]
              ],
              "status": 200,
              "status_text": ""
            }
          },
          "base_uri": "https://localhost:8080/",
          "height": 72
        },
        "id": "9L1BbYaTHpLI",
        "outputId": "68779a70-1587-4651-9f28-d648542b5119"
      },
      "source": [
        "# Load the data\n",
        "from google.colab import files\n",
        "uploaded = files.upload()\n"
      ],
      "execution_count": 19,
      "outputs": [
        {
          "output_type": "display_data",
          "data": {
            "text/html": [
              "\n",
              "     <input type=\"file\" id=\"files-a3b4a5a7-4f05-4ddb-9d64-6c06103d0057\" name=\"files[]\" multiple disabled\n",
              "        style=\"border:none\" />\n",
              "     <output id=\"result-a3b4a5a7-4f05-4ddb-9d64-6c06103d0057\">\n",
              "      Upload widget is only available when the cell has been executed in the\n",
              "      current browser session. Please rerun this cell to enable.\n",
              "      </output>\n",
              "      <script src=\"/nbextensions/google.colab/files.js\"></script> "
            ],
            "text/plain": [
              "<IPython.core.display.HTML object>"
            ]
          },
          "metadata": {
            "tags": []
          }
        },
        {
          "output_type": "stream",
          "text": [
            "Saving GOOG.csv to GOOG (1).csv\n"
          ],
          "name": "stdout"
        }
      ]
    },
    {
      "cell_type": "code",
      "metadata": {
        "colab": {
          "base_uri": "https://localhost:8080/",
          "height": 700
        },
        "id": "jZ5TjJEmI_OD",
        "outputId": "33e156db-9d1d-4bd0-9193-9b47cff0b441"
      },
      "source": [
        "#store and look at the data\n",
        "df= pd.read_csv('GOOG.csv')\n",
        "df"
      ],
      "execution_count": 18,
      "outputs": [
        {
          "output_type": "execute_result",
          "data": {
            "text/html": [
              "<div>\n",
              "<style scoped>\n",
              "    .dataframe tbody tr th:only-of-type {\n",
              "        vertical-align: middle;\n",
              "    }\n",
              "\n",
              "    .dataframe tbody tr th {\n",
              "        vertical-align: top;\n",
              "    }\n",
              "\n",
              "    .dataframe thead th {\n",
              "        text-align: right;\n",
              "    }\n",
              "</style>\n",
              "<table border=\"1\" class=\"dataframe\">\n",
              "  <thead>\n",
              "    <tr style=\"text-align: right;\">\n",
              "      <th></th>\n",
              "      <th>Date</th>\n",
              "      <th>Open</th>\n",
              "      <th>High</th>\n",
              "      <th>Low</th>\n",
              "      <th>Close</th>\n",
              "      <th>Adj Close</th>\n",
              "      <th>Volume</th>\n",
              "    </tr>\n",
              "  </thead>\n",
              "  <tbody>\n",
              "    <tr>\n",
              "      <th>0</th>\n",
              "      <td>6/1/2021</td>\n",
              "      <td>2422.000000</td>\n",
              "      <td>2437.970947</td>\n",
              "      <td>2404.879883</td>\n",
              "      <td>2429.810059</td>\n",
              "      <td>2429.810059</td>\n",
              "      <td>958300</td>\n",
              "    </tr>\n",
              "    <tr>\n",
              "      <th>1</th>\n",
              "      <td>6/2/2021</td>\n",
              "      <td>2435.310059</td>\n",
              "      <td>2442.000000</td>\n",
              "      <td>2404.199951</td>\n",
              "      <td>2421.280029</td>\n",
              "      <td>2421.280029</td>\n",
              "      <td>857900</td>\n",
              "    </tr>\n",
              "    <tr>\n",
              "      <th>2</th>\n",
              "      <td>6/3/2021</td>\n",
              "      <td>2395.020020</td>\n",
              "      <td>2409.745117</td>\n",
              "      <td>2382.830078</td>\n",
              "      <td>2404.610107</td>\n",
              "      <td>2404.610107</td>\n",
              "      <td>917300</td>\n",
              "    </tr>\n",
              "    <tr>\n",
              "      <th>3</th>\n",
              "      <td>6/4/2021</td>\n",
              "      <td>2422.520020</td>\n",
              "      <td>2453.858887</td>\n",
              "      <td>2417.770020</td>\n",
              "      <td>2451.760010</td>\n",
              "      <td>2451.760010</td>\n",
              "      <td>1297400</td>\n",
              "    </tr>\n",
              "    <tr>\n",
              "      <th>4</th>\n",
              "      <td>6/7/2021</td>\n",
              "      <td>2451.320068</td>\n",
              "      <td>2468.000000</td>\n",
              "      <td>2441.072998</td>\n",
              "      <td>2466.090088</td>\n",
              "      <td>2466.090088</td>\n",
              "      <td>1192500</td>\n",
              "    </tr>\n",
              "    <tr>\n",
              "      <th>5</th>\n",
              "      <td>6/8/2021</td>\n",
              "      <td>2479.899902</td>\n",
              "      <td>2494.495117</td>\n",
              "      <td>2468.239990</td>\n",
              "      <td>2482.850098</td>\n",
              "      <td>2482.850098</td>\n",
              "      <td>1253000</td>\n",
              "    </tr>\n",
              "    <tr>\n",
              "      <th>6</th>\n",
              "      <td>6/9/2021</td>\n",
              "      <td>2499.500000</td>\n",
              "      <td>2505.000000</td>\n",
              "      <td>2487.330078</td>\n",
              "      <td>2491.399902</td>\n",
              "      <td>2491.399902</td>\n",
              "      <td>1006300</td>\n",
              "    </tr>\n",
              "    <tr>\n",
              "      <th>7</th>\n",
              "      <td>6/10/2021</td>\n",
              "      <td>2494.010010</td>\n",
              "      <td>2523.260010</td>\n",
              "      <td>2494.000000</td>\n",
              "      <td>2521.600098</td>\n",
              "      <td>2521.600098</td>\n",
              "      <td>1561700</td>\n",
              "    </tr>\n",
              "    <tr>\n",
              "      <th>8</th>\n",
              "      <td>6/11/2021</td>\n",
              "      <td>2524.919922</td>\n",
              "      <td>2526.989990</td>\n",
              "      <td>2498.290039</td>\n",
              "      <td>2513.929932</td>\n",
              "      <td>2513.929932</td>\n",
              "      <td>1262000</td>\n",
              "    </tr>\n",
              "    <tr>\n",
              "      <th>9</th>\n",
              "      <td>6/14/2021</td>\n",
              "      <td>2513.389893</td>\n",
              "      <td>2528.229980</td>\n",
              "      <td>2500.939941</td>\n",
              "      <td>2527.040039</td>\n",
              "      <td>2527.040039</td>\n",
              "      <td>1127500</td>\n",
              "    </tr>\n",
              "    <tr>\n",
              "      <th>10</th>\n",
              "      <td>6/15/2021</td>\n",
              "      <td>2530.439941</td>\n",
              "      <td>2537.239990</td>\n",
              "      <td>2512.969971</td>\n",
              "      <td>2520.659912</td>\n",
              "      <td>2520.659912</td>\n",
              "      <td>1109100</td>\n",
              "    </tr>\n",
              "    <tr>\n",
              "      <th>11</th>\n",
              "      <td>6/16/2021</td>\n",
              "      <td>2524.949951</td>\n",
              "      <td>2530.469971</td>\n",
              "      <td>2482.999023</td>\n",
              "      <td>2513.929932</td>\n",
              "      <td>2513.929932</td>\n",
              "      <td>1315800</td>\n",
              "    </tr>\n",
              "    <tr>\n",
              "      <th>12</th>\n",
              "      <td>6/17/2021</td>\n",
              "      <td>2510.459961</td>\n",
              "      <td>2543.929932</td>\n",
              "      <td>2510.300049</td>\n",
              "      <td>2527.419922</td>\n",
              "      <td>2527.419922</td>\n",
              "      <td>1287800</td>\n",
              "    </tr>\n",
              "    <tr>\n",
              "      <th>13</th>\n",
              "      <td>6/18/2021</td>\n",
              "      <td>2514.110107</td>\n",
              "      <td>2527.780029</td>\n",
              "      <td>2492.060059</td>\n",
              "      <td>2511.350098</td>\n",
              "      <td>2511.350098</td>\n",
              "      <td>2665300</td>\n",
              "    </tr>\n",
              "    <tr>\n",
              "      <th>14</th>\n",
              "      <td>6/21/2021</td>\n",
              "      <td>2514.800049</td>\n",
              "      <td>2540.735107</td>\n",
              "      <td>2502.685059</td>\n",
              "      <td>2529.100098</td>\n",
              "      <td>2529.100098</td>\n",
              "      <td>1312800</td>\n",
              "    </tr>\n",
              "    <tr>\n",
              "      <th>15</th>\n",
              "      <td>6/22/2021</td>\n",
              "      <td>2529.000000</td>\n",
              "      <td>2545.399902</td>\n",
              "      <td>2520.530029</td>\n",
              "      <td>2539.989990</td>\n",
              "      <td>2539.989990</td>\n",
              "      <td>1049200</td>\n",
              "    </tr>\n",
              "    <tr>\n",
              "      <th>16</th>\n",
              "      <td>6/23/2021</td>\n",
              "      <td>2531.000000</td>\n",
              "      <td>2555.919922</td>\n",
              "      <td>2525.040039</td>\n",
              "      <td>2529.229980</td>\n",
              "      <td>2529.229980</td>\n",
              "      <td>984700</td>\n",
              "    </tr>\n",
              "    <tr>\n",
              "      <th>17</th>\n",
              "      <td>6/24/2021</td>\n",
              "      <td>2541.070068</td>\n",
              "      <td>2550.709961</td>\n",
              "      <td>2539.199951</td>\n",
              "      <td>2545.639893</td>\n",
              "      <td>2545.639893</td>\n",
              "      <td>946700</td>\n",
              "    </tr>\n",
              "    <tr>\n",
              "      <th>18</th>\n",
              "      <td>6/25/2021</td>\n",
              "      <td>2539.139893</td>\n",
              "      <td>2550.100098</td>\n",
              "      <td>2528.879883</td>\n",
              "      <td>2539.899902</td>\n",
              "      <td>2539.899902</td>\n",
              "      <td>1674200</td>\n",
              "    </tr>\n",
              "    <tr>\n",
              "      <th>19</th>\n",
              "      <td>6/28/2021</td>\n",
              "      <td>2540.000000</td>\n",
              "      <td>2546.739990</td>\n",
              "      <td>2519.476074</td>\n",
              "      <td>2536.389893</td>\n",
              "      <td>2536.389893</td>\n",
              "      <td>1405500</td>\n",
              "    </tr>\n",
              "    <tr>\n",
              "      <th>20</th>\n",
              "      <td>6/29/2021</td>\n",
              "      <td>2535.449951</td>\n",
              "      <td>2540.000000</td>\n",
              "      <td>2508.739990</td>\n",
              "      <td>2520.370117</td>\n",
              "      <td>2520.370117</td>\n",
              "      <td>1047500</td>\n",
              "    </tr>\n",
              "  </tbody>\n",
              "</table>\n",
              "</div>"
            ],
            "text/plain": [
              "         Date         Open         High  ...        Close    Adj Close   Volume\n",
              "0    6/1/2021  2422.000000  2437.970947  ...  2429.810059  2429.810059   958300\n",
              "1    6/2/2021  2435.310059  2442.000000  ...  2421.280029  2421.280029   857900\n",
              "2    6/3/2021  2395.020020  2409.745117  ...  2404.610107  2404.610107   917300\n",
              "3    6/4/2021  2422.520020  2453.858887  ...  2451.760010  2451.760010  1297400\n",
              "4    6/7/2021  2451.320068  2468.000000  ...  2466.090088  2466.090088  1192500\n",
              "5    6/8/2021  2479.899902  2494.495117  ...  2482.850098  2482.850098  1253000\n",
              "6    6/9/2021  2499.500000  2505.000000  ...  2491.399902  2491.399902  1006300\n",
              "7   6/10/2021  2494.010010  2523.260010  ...  2521.600098  2521.600098  1561700\n",
              "8   6/11/2021  2524.919922  2526.989990  ...  2513.929932  2513.929932  1262000\n",
              "9   6/14/2021  2513.389893  2528.229980  ...  2527.040039  2527.040039  1127500\n",
              "10  6/15/2021  2530.439941  2537.239990  ...  2520.659912  2520.659912  1109100\n",
              "11  6/16/2021  2524.949951  2530.469971  ...  2513.929932  2513.929932  1315800\n",
              "12  6/17/2021  2510.459961  2543.929932  ...  2527.419922  2527.419922  1287800\n",
              "13  6/18/2021  2514.110107  2527.780029  ...  2511.350098  2511.350098  2665300\n",
              "14  6/21/2021  2514.800049  2540.735107  ...  2529.100098  2529.100098  1312800\n",
              "15  6/22/2021  2529.000000  2545.399902  ...  2539.989990  2539.989990  1049200\n",
              "16  6/23/2021  2531.000000  2555.919922  ...  2529.229980  2529.229980   984700\n",
              "17  6/24/2021  2541.070068  2550.709961  ...  2545.639893  2545.639893   946700\n",
              "18  6/25/2021  2539.139893  2550.100098  ...  2539.899902  2539.899902  1674200\n",
              "19  6/28/2021  2540.000000  2546.739990  ...  2536.389893  2536.389893  1405500\n",
              "20  6/29/2021  2535.449951  2540.000000  ...  2520.370117  2520.370117  1047500\n",
              "\n",
              "[21 rows x 7 columns]"
            ]
          },
          "metadata": {
            "tags": []
          },
          "execution_count": 18
        }
      ]
    },
    {
      "cell_type": "code",
      "metadata": {
        "colab": {
          "base_uri": "https://localhost:8080/",
          "height": 80
        },
        "id": "oM_8a2DXJedZ",
        "outputId": "27917290-fe5e-427d-b588-60a435539665"
      },
      "source": [
        "#Get and print the last row of the data\n",
        "actual_price = df.tail(1)\n",
        "actual_price"
      ],
      "execution_count": 4,
      "outputs": [
        {
          "output_type": "execute_result",
          "data": {
            "text/html": [
              "<div>\n",
              "<style scoped>\n",
              "    .dataframe tbody tr th:only-of-type {\n",
              "        vertical-align: middle;\n",
              "    }\n",
              "\n",
              "    .dataframe tbody tr th {\n",
              "        vertical-align: top;\n",
              "    }\n",
              "\n",
              "    .dataframe thead th {\n",
              "        text-align: right;\n",
              "    }\n",
              "</style>\n",
              "<table border=\"1\" class=\"dataframe\">\n",
              "  <thead>\n",
              "    <tr style=\"text-align: right;\">\n",
              "      <th></th>\n",
              "      <th>Date</th>\n",
              "      <th>Open</th>\n",
              "      <th>High</th>\n",
              "      <th>Low</th>\n",
              "      <th>Close</th>\n",
              "      <th>Adj Close</th>\n",
              "      <th>Volume</th>\n",
              "    </tr>\n",
              "  </thead>\n",
              "  <tbody>\n",
              "    <tr>\n",
              "      <th>20</th>\n",
              "      <td>6/29/2021</td>\n",
              "      <td>2535.449951</td>\n",
              "      <td>2540.0</td>\n",
              "      <td>2508.73999</td>\n",
              "      <td>2520.370117</td>\n",
              "      <td>2520.370117</td>\n",
              "      <td>1047500</td>\n",
              "    </tr>\n",
              "  </tbody>\n",
              "</table>\n",
              "</div>"
            ],
            "text/plain": [
              "         Date         Open    High  ...        Close    Adj Close   Volume\n",
              "20  6/29/2021  2535.449951  2540.0  ...  2520.370117  2520.370117  1047500\n",
              "\n",
              "[1 rows x 7 columns]"
            ]
          },
          "metadata": {
            "tags": []
          },
          "execution_count": 4
        }
      ]
    },
    {
      "cell_type": "code",
      "metadata": {
        "colab": {
          "base_uri": "https://localhost:8080/",
          "height": 669
        },
        "id": "GqyM4LB0J3IB",
        "outputId": "841341c1-64b2-4c12-a30b-010c11a2e074"
      },
      "source": [
        "#Prepare the data for training\n",
        "df= df.head(len(df)-1)\n",
        "df"
      ],
      "execution_count": 5,
      "outputs": [
        {
          "output_type": "execute_result",
          "data": {
            "text/html": [
              "<div>\n",
              "<style scoped>\n",
              "    .dataframe tbody tr th:only-of-type {\n",
              "        vertical-align: middle;\n",
              "    }\n",
              "\n",
              "    .dataframe tbody tr th {\n",
              "        vertical-align: top;\n",
              "    }\n",
              "\n",
              "    .dataframe thead th {\n",
              "        text-align: right;\n",
              "    }\n",
              "</style>\n",
              "<table border=\"1\" class=\"dataframe\">\n",
              "  <thead>\n",
              "    <tr style=\"text-align: right;\">\n",
              "      <th></th>\n",
              "      <th>Date</th>\n",
              "      <th>Open</th>\n",
              "      <th>High</th>\n",
              "      <th>Low</th>\n",
              "      <th>Close</th>\n",
              "      <th>Adj Close</th>\n",
              "      <th>Volume</th>\n",
              "    </tr>\n",
              "  </thead>\n",
              "  <tbody>\n",
              "    <tr>\n",
              "      <th>0</th>\n",
              "      <td>6/1/2021</td>\n",
              "      <td>2422.000000</td>\n",
              "      <td>2437.970947</td>\n",
              "      <td>2404.879883</td>\n",
              "      <td>2429.810059</td>\n",
              "      <td>2429.810059</td>\n",
              "      <td>958300</td>\n",
              "    </tr>\n",
              "    <tr>\n",
              "      <th>1</th>\n",
              "      <td>6/2/2021</td>\n",
              "      <td>2435.310059</td>\n",
              "      <td>2442.000000</td>\n",
              "      <td>2404.199951</td>\n",
              "      <td>2421.280029</td>\n",
              "      <td>2421.280029</td>\n",
              "      <td>857900</td>\n",
              "    </tr>\n",
              "    <tr>\n",
              "      <th>2</th>\n",
              "      <td>6/3/2021</td>\n",
              "      <td>2395.020020</td>\n",
              "      <td>2409.745117</td>\n",
              "      <td>2382.830078</td>\n",
              "      <td>2404.610107</td>\n",
              "      <td>2404.610107</td>\n",
              "      <td>917300</td>\n",
              "    </tr>\n",
              "    <tr>\n",
              "      <th>3</th>\n",
              "      <td>6/4/2021</td>\n",
              "      <td>2422.520020</td>\n",
              "      <td>2453.858887</td>\n",
              "      <td>2417.770020</td>\n",
              "      <td>2451.760010</td>\n",
              "      <td>2451.760010</td>\n",
              "      <td>1297400</td>\n",
              "    </tr>\n",
              "    <tr>\n",
              "      <th>4</th>\n",
              "      <td>6/7/2021</td>\n",
              "      <td>2451.320068</td>\n",
              "      <td>2468.000000</td>\n",
              "      <td>2441.072998</td>\n",
              "      <td>2466.090088</td>\n",
              "      <td>2466.090088</td>\n",
              "      <td>1192500</td>\n",
              "    </tr>\n",
              "    <tr>\n",
              "      <th>5</th>\n",
              "      <td>6/8/2021</td>\n",
              "      <td>2479.899902</td>\n",
              "      <td>2494.495117</td>\n",
              "      <td>2468.239990</td>\n",
              "      <td>2482.850098</td>\n",
              "      <td>2482.850098</td>\n",
              "      <td>1253000</td>\n",
              "    </tr>\n",
              "    <tr>\n",
              "      <th>6</th>\n",
              "      <td>6/9/2021</td>\n",
              "      <td>2499.500000</td>\n",
              "      <td>2505.000000</td>\n",
              "      <td>2487.330078</td>\n",
              "      <td>2491.399902</td>\n",
              "      <td>2491.399902</td>\n",
              "      <td>1006300</td>\n",
              "    </tr>\n",
              "    <tr>\n",
              "      <th>7</th>\n",
              "      <td>6/10/2021</td>\n",
              "      <td>2494.010010</td>\n",
              "      <td>2523.260010</td>\n",
              "      <td>2494.000000</td>\n",
              "      <td>2521.600098</td>\n",
              "      <td>2521.600098</td>\n",
              "      <td>1561700</td>\n",
              "    </tr>\n",
              "    <tr>\n",
              "      <th>8</th>\n",
              "      <td>6/11/2021</td>\n",
              "      <td>2524.919922</td>\n",
              "      <td>2526.989990</td>\n",
              "      <td>2498.290039</td>\n",
              "      <td>2513.929932</td>\n",
              "      <td>2513.929932</td>\n",
              "      <td>1262000</td>\n",
              "    </tr>\n",
              "    <tr>\n",
              "      <th>9</th>\n",
              "      <td>6/14/2021</td>\n",
              "      <td>2513.389893</td>\n",
              "      <td>2528.229980</td>\n",
              "      <td>2500.939941</td>\n",
              "      <td>2527.040039</td>\n",
              "      <td>2527.040039</td>\n",
              "      <td>1127500</td>\n",
              "    </tr>\n",
              "    <tr>\n",
              "      <th>10</th>\n",
              "      <td>6/15/2021</td>\n",
              "      <td>2530.439941</td>\n",
              "      <td>2537.239990</td>\n",
              "      <td>2512.969971</td>\n",
              "      <td>2520.659912</td>\n",
              "      <td>2520.659912</td>\n",
              "      <td>1109100</td>\n",
              "    </tr>\n",
              "    <tr>\n",
              "      <th>11</th>\n",
              "      <td>6/16/2021</td>\n",
              "      <td>2524.949951</td>\n",
              "      <td>2530.469971</td>\n",
              "      <td>2482.999023</td>\n",
              "      <td>2513.929932</td>\n",
              "      <td>2513.929932</td>\n",
              "      <td>1315800</td>\n",
              "    </tr>\n",
              "    <tr>\n",
              "      <th>12</th>\n",
              "      <td>6/17/2021</td>\n",
              "      <td>2510.459961</td>\n",
              "      <td>2543.929932</td>\n",
              "      <td>2510.300049</td>\n",
              "      <td>2527.419922</td>\n",
              "      <td>2527.419922</td>\n",
              "      <td>1287800</td>\n",
              "    </tr>\n",
              "    <tr>\n",
              "      <th>13</th>\n",
              "      <td>6/18/2021</td>\n",
              "      <td>2514.110107</td>\n",
              "      <td>2527.780029</td>\n",
              "      <td>2492.060059</td>\n",
              "      <td>2511.350098</td>\n",
              "      <td>2511.350098</td>\n",
              "      <td>2665300</td>\n",
              "    </tr>\n",
              "    <tr>\n",
              "      <th>14</th>\n",
              "      <td>6/21/2021</td>\n",
              "      <td>2514.800049</td>\n",
              "      <td>2540.735107</td>\n",
              "      <td>2502.685059</td>\n",
              "      <td>2529.100098</td>\n",
              "      <td>2529.100098</td>\n",
              "      <td>1312800</td>\n",
              "    </tr>\n",
              "    <tr>\n",
              "      <th>15</th>\n",
              "      <td>6/22/2021</td>\n",
              "      <td>2529.000000</td>\n",
              "      <td>2545.399902</td>\n",
              "      <td>2520.530029</td>\n",
              "      <td>2539.989990</td>\n",
              "      <td>2539.989990</td>\n",
              "      <td>1049200</td>\n",
              "    </tr>\n",
              "    <tr>\n",
              "      <th>16</th>\n",
              "      <td>6/23/2021</td>\n",
              "      <td>2531.000000</td>\n",
              "      <td>2555.919922</td>\n",
              "      <td>2525.040039</td>\n",
              "      <td>2529.229980</td>\n",
              "      <td>2529.229980</td>\n",
              "      <td>984700</td>\n",
              "    </tr>\n",
              "    <tr>\n",
              "      <th>17</th>\n",
              "      <td>6/24/2021</td>\n",
              "      <td>2541.070068</td>\n",
              "      <td>2550.709961</td>\n",
              "      <td>2539.199951</td>\n",
              "      <td>2545.639893</td>\n",
              "      <td>2545.639893</td>\n",
              "      <td>946700</td>\n",
              "    </tr>\n",
              "    <tr>\n",
              "      <th>18</th>\n",
              "      <td>6/25/2021</td>\n",
              "      <td>2539.139893</td>\n",
              "      <td>2550.100098</td>\n",
              "      <td>2528.879883</td>\n",
              "      <td>2539.899902</td>\n",
              "      <td>2539.899902</td>\n",
              "      <td>1674200</td>\n",
              "    </tr>\n",
              "    <tr>\n",
              "      <th>19</th>\n",
              "      <td>6/28/2021</td>\n",
              "      <td>2540.000000</td>\n",
              "      <td>2546.739990</td>\n",
              "      <td>2519.476074</td>\n",
              "      <td>2536.389893</td>\n",
              "      <td>2536.389893</td>\n",
              "      <td>1405500</td>\n",
              "    </tr>\n",
              "  </tbody>\n",
              "</table>\n",
              "</div>"
            ],
            "text/plain": [
              "         Date         Open         High  ...        Close    Adj Close   Volume\n",
              "0    6/1/2021  2422.000000  2437.970947  ...  2429.810059  2429.810059   958300\n",
              "1    6/2/2021  2435.310059  2442.000000  ...  2421.280029  2421.280029   857900\n",
              "2    6/3/2021  2395.020020  2409.745117  ...  2404.610107  2404.610107   917300\n",
              "3    6/4/2021  2422.520020  2453.858887  ...  2451.760010  2451.760010  1297400\n",
              "4    6/7/2021  2451.320068  2468.000000  ...  2466.090088  2466.090088  1192500\n",
              "5    6/8/2021  2479.899902  2494.495117  ...  2482.850098  2482.850098  1253000\n",
              "6    6/9/2021  2499.500000  2505.000000  ...  2491.399902  2491.399902  1006300\n",
              "7   6/10/2021  2494.010010  2523.260010  ...  2521.600098  2521.600098  1561700\n",
              "8   6/11/2021  2524.919922  2526.989990  ...  2513.929932  2513.929932  1262000\n",
              "9   6/14/2021  2513.389893  2528.229980  ...  2527.040039  2527.040039  1127500\n",
              "10  6/15/2021  2530.439941  2537.239990  ...  2520.659912  2520.659912  1109100\n",
              "11  6/16/2021  2524.949951  2530.469971  ...  2513.929932  2513.929932  1315800\n",
              "12  6/17/2021  2510.459961  2543.929932  ...  2527.419922  2527.419922  1287800\n",
              "13  6/18/2021  2514.110107  2527.780029  ...  2511.350098  2511.350098  2665300\n",
              "14  6/21/2021  2514.800049  2540.735107  ...  2529.100098  2529.100098  1312800\n",
              "15  6/22/2021  2529.000000  2545.399902  ...  2539.989990  2539.989990  1049200\n",
              "16  6/23/2021  2531.000000  2555.919922  ...  2529.229980  2529.229980   984700\n",
              "17  6/24/2021  2541.070068  2550.709961  ...  2545.639893  2545.639893   946700\n",
              "18  6/25/2021  2539.139893  2550.100098  ...  2539.899902  2539.899902  1674200\n",
              "19  6/28/2021  2540.000000  2546.739990  ...  2536.389893  2536.389893  1405500\n",
              "\n",
              "[20 rows x 7 columns]"
            ]
          },
          "metadata": {
            "tags": []
          },
          "execution_count": 5
        }
      ]
    },
    {
      "cell_type": "code",
      "metadata": {
        "id": "5yX1lMADKZ0p"
      },
      "source": [
        "#Create an empty list to store the independent and dependent data\n",
        "days = list()\n",
        "adj_close_prices = list()"
      ],
      "execution_count": 28,
      "outputs": []
    },
    {
      "cell_type": "code",
      "metadata": {
        "id": "rdDklmNnK4Dy"
      },
      "source": [
        "#Get the date and the adjusted close price\n",
        "df_days = df.loc[:, 'Date']\n",
        "df_adj_close = df.loc[:, 'Adj Close']"
      ],
      "execution_count": 29,
      "outputs": []
    },
    {
      "cell_type": "code",
      "metadata": {
        "id": "B7ggXaG6MDDp"
      },
      "source": [
        "#Create the independent data set\n",
        "for day in df_days:\n",
        "  days.append([int(day.split('/')[1])])\n",
        "\n",
        "#Create the dependent data set\n",
        "for adj_close in df_adj_close:\n",
        " adj_close_prices.append( float(adj_close) )"
      ],
      "execution_count": 30,
      "outputs": []
    },
    {
      "cell_type": "code",
      "metadata": {
        "colab": {
          "base_uri": "https://localhost:8080/"
        },
        "id": "Te_KK7uyX0wU",
        "outputId": "ed3b8d6f-d1fe-4f72-acfb-d40e29b594aa"
      },
      "source": [
        "#Create the 3 Support Vector Regression Models\n",
        "\n",
        "#Create and Train a SVR model using a linear Kernel\n",
        "lin_svr = SVR(kernel='linear', C=1000.0)\n",
        "lin_svr.fit(days, adj_close_prices)\n",
        "\n",
        "#Create and Train a SVR model using a polynomial Kernel\n",
        "poly_svr = SVR(kernel='poly', C=1000.0, degree = 2)\n",
        "poly_svr.fit(days, adj_close_prices)\n",
        "\n",
        "#Create and Train a SVR model using a rbf Kernel\n",
        "rbf_svr = SVR(kernel='rbf', C=1000.0, gamma= 0.15)\n",
        "rbf_svr.fit(days, adj_close_prices)\n",
        "\n"
      ],
      "execution_count": 32,
      "outputs": [
        {
          "output_type": "execute_result",
          "data": {
            "text/plain": [
              "SVR(C=1000.0, cache_size=200, coef0=0.0, degree=3, epsilon=0.1, gamma=0.15,\n",
              "    kernel='rbf', max_iter=-1, shrinking=True, tol=0.001, verbose=False)"
            ]
          },
          "metadata": {
            "tags": []
          },
          "execution_count": 32
        }
      ]
    },
    {
      "cell_type": "code",
      "metadata": {
        "colab": {
          "base_uri": "https://localhost:8080/",
          "height": 425
        },
        "id": "gLDEwJ4Xmwd4",
        "outputId": "f871e9bd-6e91-4d1d-9976-1073d52da460"
      },
      "source": [
        "#Plot the modals on a graph to see which has the best fit to the original data\n",
        "plt.figure(figsize=(15,7))\n",
        "plt.scatter(days, adj_close_prices, color='black', label='Original Data')\n",
        "plt.plot(days, rbf_svr.predict(days), color = 'green', label = 'RBF Model')\n",
        "plt.plot(days, poly_svr.predict(days), color = 'orange', label = 'Polynomial Model')\n",
        "plt.plot(days, lin_svr.predict(days), color = 'purple', label = 'Linear Model')\n",
        "plt.legend()\n",
        "plt.show()"
      ],
      "execution_count": 33,
      "outputs": [
        {
          "output_type": "display_data",
          "data": {
            "image/png": "[encoded data removed]",
            "text/plain": [
              "<Figure size 1080x504 with 1 Axes>"
            ]
          },
          "metadata": {
            "tags": [],
            "needs_background": "light"
          }
        }
      ]
    },
    {
      "cell_type": "code",
      "metadata": {
        "id": "5ZTSexRnoj3w"
      },
      "source": [
        ""
      ],
      "execution_count": null,
      "outputs": []
    }
  ]
}